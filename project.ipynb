{
 "cells": [
  {
   "cell_type": "code",
   "execution_count": 3,
   "metadata": {},
   "outputs": [
    {
     "name": "stderr",
     "output_type": "stream",
     "text": [
      "\n",
      "[notice] A new release of pip available: 22.3.1 -> 23.3.1\n",
      "[notice] To update, run: python.exe -m pip install --upgrade pip\n"
     ]
    },
    {
     "name": "stdout",
     "output_type": "stream",
     "text": [
      "Requirement already satisfied: statsmodels in c:\\users\\ulysse\\appdata\\local\\programs\\python\\python311\\lib\\site-packages (0.14.0)\n",
      "Requirement already satisfied: numpy>=1.18 in c:\\users\\ulysse\\appdata\\local\\programs\\python\\python311\\lib\\site-packages (from statsmodels) (1.25.2)\n",
      "Requirement already satisfied: scipy!=1.9.2,>=1.4 in c:\\users\\ulysse\\appdata\\local\\programs\\python\\python311\\lib\\site-packages (from statsmodels) (1.11.3)\n",
      "Requirement already satisfied: pandas>=1.0 in c:\\users\\ulysse\\appdata\\local\\programs\\python\\python311\\lib\\site-packages (from statsmodels) (2.1.0)\n",
      "Requirement already satisfied: patsy>=0.5.2 in c:\\users\\ulysse\\appdata\\local\\programs\\python\\python311\\lib\\site-packages (from statsmodels) (0.5.4)\n",
      "Requirement already satisfied: packaging>=21.3 in c:\\users\\ulysse\\appdata\\local\\programs\\python\\python311\\lib\\site-packages (from statsmodels) (23.1)\n",
      "Requirement already satisfied: python-dateutil>=2.8.2 in c:\\users\\ulysse\\appdata\\local\\programs\\python\\python311\\lib\\site-packages (from pandas>=1.0->statsmodels) (2.8.2)\n",
      "Requirement already satisfied: pytz>=2020.1 in c:\\users\\ulysse\\appdata\\local\\programs\\python\\python311\\lib\\site-packages (from pandas>=1.0->statsmodels) (2023.3.post1)\n",
      "Requirement already satisfied: tzdata>=2022.1 in c:\\users\\ulysse\\appdata\\local\\programs\\python\\python311\\lib\\site-packages (from pandas>=1.0->statsmodels) (2023.3)\n",
      "Requirement already satisfied: six in c:\\users\\ulysse\\appdata\\local\\programs\\python\\python311\\lib\\site-packages (from patsy>=0.5.2->statsmodels) (1.16.0)\n",
      "Note: you may need to restart the kernel to use updated packages.\n"
     ]
    }
   ],
   "source": [
    "import numpy as np\n",
    "import pandas as pd\n",
    "import matplotlib.pyplot as plt\n",
    "%pip install statsmodels\n",
    "\n",
    "import statsmodels.api as sm\n"
   ]
  },
  {
   "cell_type": "code",
   "execution_count": 4,
   "metadata": {},
   "outputs": [],
   "source": [
    "df= pd.read_csv('./textfiles/HPRICE2.raw',delim_whitespace=True, header=None,  names=['price', 'crime', 'nox', 'rooms', 'dist', 'radial', 'proptax', 'stratio', 'lowstat', 'lprice', 'lnox', 'lproptax'])"
   ]
  },
  {
   "cell_type": "code",
   "execution_count": null,
   "metadata": {},
   "outputs": [],
   "source": []
  },
  {
   "cell_type": "markdown",
   "metadata": {},
   "source": [
    "### PART 1 - CROSS-SECTION DATA \n",
    "\n",
    "This part uses the dataset HPRICE2.RAW described in HPRICE2.DES."
   ]
  },
  {
   "cell_type": "markdown",
   "metadata": {},
   "source": [
    "#### 1. State the fundamental hypothesis under which the Ordinary Least Squares (OLS) estimators are unbiased. \n",
    "\n",
    "* The errors in the linear regression are uncorolated : $ Cov(\\epsilon_i,\\epsilon_j) = 0, \\forall i \\neq j $\n",
    "* They have the same variance (homoscedastic) : $ Var(\\epsilon_i) = \\sigma^2 < \\infty, \\forall i $\n",
    "* They all have a mean of zero : $ E[\\epsilon_i] = 0, \\forall i  $ \n",
    "\n",
    "\n",
    "\n",
    "#### 2. Show that under this assumption the OLS estimators are indeed unbiased.\n",
    "\n",
    "$ y = X\\beta + \\epsilon $ and we estimate $\\beta$ with $\\hat\\beta = (X^TX)^{-1}X^Ty$\n",
    "\n",
    "\n",
    "$$ \n",
    "\n",
    "\\begin{equation}\n",
    "    \\begin{aligned}\n",
    "        E[\\hat\\beta] & = E[(X^TX)^{-1}X^Ty] \\\\\n",
    "        & = E[(X^TX)^{-1}X^T(X\\beta+\\epsilon)] \\\\\n",
    "        & = E[(X^TX)^{-1}X^TX\\beta] + E[(X^TX)^{-1}X^T\\epsilon) & \\text{linearity of E} \\\\\n",
    "        & = \\beta + XE[\\epsilon] \\\\\n",
    "        &=  \\beta & \\text{as $E[\\epsilon] = 0$ }\n",
    "\n",
    "    \\end{aligned}\n",
    "\n",
    "\\end{equation}\n",
    "\n",
    "$$\n",
    "\n",
    "\n",
    "#### 3. Explain the sample selection bias with an example from the course. \n",
    "\n",
    "The selection bias refers to a specific bias where your data (population) is not representative of the real data. The example given in class is about planes returning from war zones. People realised that plane returning from war zones had really specific area where they had been shot during their mission. They then upprgraded those planes to be more protected at these specifics areas to ensure less plane crash in combat. What they did not realised was that the plane comming home were not representative of the whole population wich implied a selection bias and therefore a bad conclusion. Indeed, the planes that crashed were not part of the selection for obvious reason. A more thourough reasoning would have been to protect the area where the plane that did come back were not shot as the one where they were shot did not affect their returning\n",
    "\n",
    "#### 4. Explain the omitted variable bias with an example from the course\n",
    "\n",
    "Ommited variable bias occurs when a variable wich has impact on the response variable (the Y variable), and is corrolated to the other variables in our statistical analysis is not taken into account. The example in class we talked about was regarding crops. If our mean is to improve our yield and we only look at fertilizer consumption data. We are missing the fact that lands have different quality for production. The land quality definitely have an impact on yield (wich is our mean) and it might also have an impact on fertilizer use. Farmer might prefer to put fertilizer on better land quality as it might improve its yield.\n",
    "\n",
    "#### 5. Explain the problem of multicollinearity. Is it a problem in this dataset? \n",
    "\n",
    "If more than 2 columns of X are (nearly) linearly dependent , then $det(X^TX) = 0$ (or close to it) and it won't have an invert. In our case it means that it is gonna be numerically hard to compute the invert from $X^TX$\n",
    "\n",
    "In more simple terms multicollinearity happens when two variables measure the exact same thing. We can determine a variable directly based on the other (or close to it)\n",
    "\n"
   ]
  },
  {
   "cell_type": "code",
   "execution_count": 5,
   "metadata": {},
   "outputs": [],
   "source": [
    "y = df[\"price\"]\n",
    "X = df.iloc[:, 1:9]\n",
    "log = df.iloc[:, 9:]\n"
   ]
  },
  {
   "cell_type": "code",
   "execution_count": 6,
   "metadata": {},
   "outputs": [
    {
     "name": "stdout",
     "output_type": "stream",
     "text": [
      "We compute det(X^T*X) = 1.3888028105785238e+31 , the value is far from 0. Multicollinearity won t be a problem in our case as it will not make the invert computation harder\n"
     ]
    }
   ],
   "source": [
    "print('We compute det(X^T*X) =', np.linalg.det((X.T @ X)), ', the value is far from 0. Multicollinearity won t be a problem in our case as it will not make the invert computation harder')"
   ]
  },
  {
   "cell_type": "markdown",
   "metadata": {},
   "source": [
    "#### 6. Create three categories of nox levels (low, medium, high), corresponding to the following percentiles: 0-39%, 40%-60%, 61%-100% \n",
    "#### 7. Compute for each category of nox level the average median price and comment on your results \n"
   ]
  },
  {
   "cell_type": "code",
   "execution_count": 7,
   "metadata": {},
   "outputs": [
    {
     "name": "stdout",
     "output_type": "stream",
     "text": [
      "Price median for lowNox : 24399.0\n",
      "for mediumNox : 20400.0\n",
      "for highNox : 16300.0\n"
     ]
    }
   ],
   "source": [
    "lowNox = df['price'][ df['nox'] <= np.percentile(df['nox'], 39)]\n",
    "mediumNox = df['price'][ df['nox'] <= np.percentile(df['nox'], 60)][df['nox'] >= np.percentile(df['nox'], 40)]\n",
    "highNox = df['price'][ df['nox'] >= np.percentile(df['nox'], 61) ]\n",
    "\n",
    "print( \"Price median for lowNox :\", np.median(lowNox))\n",
    "print( \"for mediumNox :\", np.median(mediumNox))\n",
    "print( \"for highNox :\", np.median(highNox))"
   ]
  },
  {
   "cell_type": "markdown",
   "metadata": {},
   "source": [
    "It seems like Nox and price are anti-corolated as high Nox implies a low median price and conversely for low Nox "
   ]
  },
  {
   "cell_type": "markdown",
   "metadata": {},
   "source": [
    "#### 8. Produce a scatter plot with the variable price on the y-axis and the variable nox on the x-axis. Is this a ceteris paribus effect? \n"
   ]
  },
  {
   "cell_type": "code",
   "execution_count": 8,
   "metadata": {},
   "outputs": [
    {
     "data": {
      "image/png": "[encoded data removed]",
      "text/plain": [
       "<Figure size 640x480 with 1 Axes>"
      ]
     },
     "metadata": {},
     "output_type": "display_data"
    }
   ],
   "source": [
    "fig, ax = plt.subplots()\n",
    "\n",
    "plt.scatter(df['nox'],y)\n",
    "plt.title('Scatter plot')\n",
    "plt.xlabel('Nox')\n",
    "plt.ylabel('Price')\n",
    "plt.show()"
   ]
  },
  {
   "cell_type": "markdown",
   "metadata": {},
   "source": [
    "It is hard to determine if it is a ceteris paribus effect. However it seems like there is an underlying variable corolated to Nox wich impacts price as Nox at first glance should not have any impact on housing price. It is most likely not a ceteris paribus effect\n",
    "\n",
    "#### 9. Run a regression of price on a constant, crime, nox, rooms, proptax. Comment on the histogram of the residuals. Interpret all coefficients. \n"
   ]
  },
  {
   "cell_type": "code",
   "execution_count": 9,
   "metadata": {},
   "outputs": [
    {
     "data": {
      "text/html": [
       "<div>\n",
       "<style scoped>\n",
       "    .dataframe tbody tr th:only-of-type {\n",
       "        vertical-align: middle;\n",
       "    }\n",
       "\n",
       "    .dataframe tbody tr th {\n",
       "        vertical-align: top;\n",
       "    }\n",
       "\n",
       "    .dataframe thead th {\n",
       "        text-align: right;\n",
       "    }\n",
       "</style>\n",
       "<table border=\"1\" class=\"dataframe\">\n",
       "  <thead>\n",
       "    <tr style=\"text-align: right;\">\n",
       "      <th></th>\n",
       "      <th>crime</th>\n",
       "      <th>nox</th>\n",
       "      <th>rooms</th>\n",
       "      <th>dist</th>\n",
       "      <th>radial</th>\n",
       "      <th>proptax</th>\n",
       "      <th>stratio</th>\n",
       "      <th>lowstat</th>\n",
       "    </tr>\n",
       "  </thead>\n",
       "  <tbody>\n",
       "    <tr>\n",
       "      <th>0</th>\n",
       "      <td>0.006</td>\n",
       "      <td>5.38</td>\n",
       "      <td>6.57</td>\n",
       "      <td>4.09</td>\n",
       "      <td>1</td>\n",
       "      <td>29.6</td>\n",
       "      <td>15.3</td>\n",
       "      <td>4.98</td>\n",
       "    </tr>\n",
       "    <tr>\n",
       "      <th>1</th>\n",
       "      <td>0.027</td>\n",
       "      <td>4.69</td>\n",
       "      <td>6.42</td>\n",
       "      <td>4.97</td>\n",
       "      <td>2</td>\n",
       "      <td>24.2</td>\n",
       "      <td>17.8</td>\n",
       "      <td>9.14</td>\n",
       "    </tr>\n",
       "    <tr>\n",
       "      <th>2</th>\n",
       "      <td>0.027</td>\n",
       "      <td>4.69</td>\n",
       "      <td>7.18</td>\n",
       "      <td>4.97</td>\n",
       "      <td>2</td>\n",
       "      <td>24.2</td>\n",
       "      <td>17.8</td>\n",
       "      <td>4.03</td>\n",
       "    </tr>\n",
       "    <tr>\n",
       "      <th>3</th>\n",
       "      <td>0.032</td>\n",
       "      <td>4.58</td>\n",
       "      <td>7.00</td>\n",
       "      <td>6.06</td>\n",
       "      <td>3</td>\n",
       "      <td>22.2</td>\n",
       "      <td>18.7</td>\n",
       "      <td>2.94</td>\n",
       "    </tr>\n",
       "    <tr>\n",
       "      <th>4</th>\n",
       "      <td>0.069</td>\n",
       "      <td>4.58</td>\n",
       "      <td>7.15</td>\n",
       "      <td>6.06</td>\n",
       "      <td>3</td>\n",
       "      <td>22.2</td>\n",
       "      <td>18.7</td>\n",
       "      <td>5.33</td>\n",
       "    </tr>\n",
       "    <tr>\n",
       "      <th>...</th>\n",
       "      <td>...</td>\n",
       "      <td>...</td>\n",
       "      <td>...</td>\n",
       "      <td>...</td>\n",
       "      <td>...</td>\n",
       "      <td>...</td>\n",
       "      <td>...</td>\n",
       "      <td>...</td>\n",
       "    </tr>\n",
       "    <tr>\n",
       "      <th>501</th>\n",
       "      <td>0.063</td>\n",
       "      <td>5.73</td>\n",
       "      <td>6.59</td>\n",
       "      <td>2.48</td>\n",
       "      <td>1</td>\n",
       "      <td>27.3</td>\n",
       "      <td>21.0</td>\n",
       "      <td>9.67</td>\n",
       "    </tr>\n",
       "    <tr>\n",
       "      <th>502</th>\n",
       "      <td>0.045</td>\n",
       "      <td>5.73</td>\n",
       "      <td>6.12</td>\n",
       "      <td>2.29</td>\n",
       "      <td>1</td>\n",
       "      <td>27.3</td>\n",
       "      <td>21.0</td>\n",
       "      <td>9.08</td>\n",
       "    </tr>\n",
       "    <tr>\n",
       "      <th>503</th>\n",
       "      <td>0.061</td>\n",
       "      <td>5.73</td>\n",
       "      <td>6.98</td>\n",
       "      <td>2.17</td>\n",
       "      <td>1</td>\n",
       "      <td>27.3</td>\n",
       "      <td>21.0</td>\n",
       "      <td>5.64</td>\n",
       "    </tr>\n",
       "    <tr>\n",
       "      <th>504</th>\n",
       "      <td>0.110</td>\n",
       "      <td>5.73</td>\n",
       "      <td>6.79</td>\n",
       "      <td>2.39</td>\n",
       "      <td>1</td>\n",
       "      <td>27.3</td>\n",
       "      <td>21.0</td>\n",
       "      <td>6.48</td>\n",
       "    </tr>\n",
       "    <tr>\n",
       "      <th>505</th>\n",
       "      <td>0.047</td>\n",
       "      <td>5.73</td>\n",
       "      <td>6.03</td>\n",
       "      <td>2.51</td>\n",
       "      <td>1</td>\n",
       "      <td>27.3</td>\n",
       "      <td>21.0</td>\n",
       "      <td>7.88</td>\n",
       "    </tr>\n",
       "  </tbody>\n",
       "</table>\n",
       "<p>506 rows × 8 columns</p>\n",
       "</div>"
      ],
      "text/plain": [
       "     crime   nox  rooms  dist  radial  proptax  stratio  lowstat\n",
       "0    0.006  5.38   6.57  4.09       1     29.6     15.3     4.98\n",
       "1    0.027  4.69   6.42  4.97       2     24.2     17.8     9.14\n",
       "2    0.027  4.69   7.18  4.97       2     24.2     17.8     4.03\n",
       "3    0.032  4.58   7.00  6.06       3     22.2     18.7     2.94\n",
       "4    0.069  4.58   7.15  6.06       3     22.2     18.7     5.33\n",
       "..     ...   ...    ...   ...     ...      ...      ...      ...\n",
       "501  0.063  5.73   6.59  2.48       1     27.3     21.0     9.67\n",
       "502  0.045  5.73   6.12  2.29       1     27.3     21.0     9.08\n",
       "503  0.061  5.73   6.98  2.17       1     27.3     21.0     5.64\n",
       "504  0.110  5.73   6.79  2.39       1     27.3     21.0     6.48\n",
       "505  0.047  5.73   6.03  2.51       1     27.3     21.0     7.88\n",
       "\n",
       "[506 rows x 8 columns]"
      ]
     },
     "execution_count": 9,
     "metadata": {},
     "output_type": "execute_result"
    }
   ],
   "source": [
    "X"
   ]
  },
  {
   "cell_type": "code",
   "execution_count": 10,
   "metadata": {},
   "outputs": [
    {
     "name": "stdout",
     "output_type": "stream",
     "text": [
      "42.4807260643733 % des variations de y ne sont pas expliqué par le modèle (dispersion des points autour de la droite)\n"
     ]
    },
    {
     "data": {
      "image/png": "[encoded data removed]",
      "text/plain": [
       "<Figure size 640x480 with 1 Axes>"
      ]
     },
     "metadata": {},
     "output_type": "display_data"
    }
   ],
   "source": [
    "const= np.ones(y.shape)\n",
    "X1 = X.drop(['dist','radial','stratio','lowstat'], axis = 1)\n",
    "X1['const'] = const\n",
    "\n",
    "beta = np.linalg.inv(X1.T @ X1)@X1.T@y\n",
    "residual = y - np.array(X1) @ beta\n",
    "\n",
    "count = residual.value_counts(normalize=True, bins= 10, sort = True)*100\n",
    "\n",
    "bins = count.index\n",
    "\n",
    "for i, value in enumerate(count):\n",
    "    plt.text(bins[i].mid, value, f'{value:.2f}%', ha='center')\n",
    "\n",
    "plt.hist(residual, bins=10)\n",
    "\n",
    "\n",
    "plt.xticks( [ bins[i].left for i in range(len(bins))])\n",
    "plt.ticklabel_format(style='scientific', axis='x', scilimits=(0,0))\n",
    "plt.xlabel('val')\n",
    "plt.ylabel('occurence')\n",
    "plt.title('Histogram of the residuals')\n",
    "\n",
    "\n",
    "\n",
    "SSR = np.sum(residual**2)\n",
    "SST = np.sum((y-np.mean(y))**2)\n",
    "\n",
    "R2 = 1 - SSR/SST # SST = variance de y, SSR = Somme des carré des résidus\n",
    "\n",
    "print(100- R2*100, '% des variations de y ne sont pas expliqué par le modèle (dispersion des points autour de la droite)')"
   ]
  },
  {
   "cell_type": "markdown",
   "metadata": {},
   "source": [
    "The residuals are centered arround 0 and they seem to follow a gaussian. The points that are not centered are the one our estimator can't explain. Our ordinary least square methods minimize the quadratic distance between $ X\\beta $ and y with $\\beta$ as a parameter. When we look at the residual, it measures the vertical distance between y and  $ X\\beta $.\n",
    "\n",
    "We can see more than 22% of of our estimated points have more than a 6260 USD difference with the real data."
   ]
  },
  {
   "cell_type": "code",
   "execution_count": 11,
   "metadata": {},
   "outputs": [
    {
     "data": {
      "text/plain": [
       "(0     -136.543828\n",
       " 1     -660.467247\n",
       " 2     7797.928603\n",
       " 3      -89.414396\n",
       " 4   -18682.263753\n",
       " dtype: float64,\n",
       "      crime   nox  rooms  proptax  const\n",
       " 0    0.006  5.38   6.57     29.6    1.0\n",
       " 1    0.027  4.69   6.42     24.2    1.0\n",
       " 2    0.027  4.69   7.18     24.2    1.0\n",
       " 3    0.032  4.58   7.00     22.2    1.0\n",
       " 4    0.069  4.58   7.15     22.2    1.0\n",
       " ..     ...   ...    ...      ...    ...\n",
       " 501  0.063  5.73   6.59     27.3    1.0\n",
       " 502  0.045  5.73   6.12     27.3    1.0\n",
       " 503  0.061  5.73   6.98     27.3    1.0\n",
       " 504  0.110  5.73   6.79     27.3    1.0\n",
       " 505  0.047  5.73   6.03     27.3    1.0\n",
       " \n",
       " [506 rows x 5 columns])"
      ]
     },
     "execution_count": 11,
     "metadata": {},
     "output_type": "execute_result"
    }
   ],
   "source": [
    "beta, X1"
   ]
  },
  {
   "cell_type": "markdown",
   "metadata": {},
   "source": [
    "All negative values implies that they lower the housing price, they have a negative impact (const < nox < crime < proptax < 0). The only variable having a postive impact on price is the number of rooms, if we do not consider the constant variable, room is the one with the most effect on housing price for our estimator by a factor of 10. We also have to consider that all these values don't have the same metric wich means it is harder to compare one to another. The const beta value may represents the none observable variable, but it also allow our linear estimator to not pass through 0 when all variables are.\n",
    "\n",
    "#### 10. Run a regression of lprice on a constant, crime, nox, rooms, proptax. Comment on the histogram of the residuals. Interpret all coefficients. \n"
   ]
  },
  {
   "cell_type": "code",
   "execution_count": 12,
   "metadata": {},
   "outputs": [
    {
     "name": "stdout",
     "output_type": "stream",
     "text": [
      "38.87391589357874 % des variations de y ne sont pas expliqué par le modèle (dispersion des points autour de la droite)\n"
     ]
    },
    {
     "data": {
      "image/png": "[encoded data removed]",
      "text/plain": [
       "<Figure size 640x480 with 1 Axes>"
      ]
     },
     "metadata": {},
     "output_type": "display_data"
    }
   ],
   "source": [
    "y2 = log['lprice']\n",
    "X2 = X1.copy()\n",
    "\n",
    "beta2 = np.linalg.inv(X2.T @ X2)@X2.T@y2\n",
    "residual2 = y2 - np.array(X2) @ beta2\n",
    "\n",
    "\n",
    "count = residual.value_counts(normalize=True, bins= 10, sort = True)*100\n",
    "bins = count.index\n",
    "for i, value in enumerate(count):\n",
    "    plt.text(bins[i].mid, value, f'{value:.2f}%', ha='center')\n",
    "\n",
    "\n",
    "plt.hist(residual2, bins=10)\n",
    "plt.xticks( [ bins[i].left for i in range(len(bins))])\n",
    "plt.xlabel('val')\n",
    "plt.ylabel('occurence')\n",
    "plt.title('Histogram of the residuals')\n",
    "\n",
    "SSR = np.sum(residual2**2)\n",
    "SST = np.sum((y2-np.mean(y2))**2)\n",
    "\n",
    "R2 = 1 - SSR/SST # SST = variance de y, SSR = Somme des carré des résidus\n",
    "\n",
    "print(100- R2*100, '% des variations de y ne sont pas expliqué par le modèle (dispersion des points autour de la droite)')"
   ]
  },
  {
   "cell_type": "markdown",
   "metadata": {},
   "source": [
    "We can see that R2 is bigger (= 0.62) when we are using a logarithmic response, points are less dispersed arround our estimation. This means that the relation between X and Y is better described than before. As a result, the variance of the residual is lesser wich makes the residuals more centered arround 0 ( only 22% of value have a residual bigger than 0.256 = log(price) - $ \\hat\\beta X$ using the same number of bins)\n",
    "\n"
   ]
  },
  {
   "cell_type": "code",
   "execution_count": 13,
   "metadata": {},
   "outputs": [
    {
     "data": {
      "text/plain": [
       "(     crime   nox  rooms  proptax  const\n",
       " 0    0.006  5.38   6.57     29.6    1.0\n",
       " 1    0.027  4.69   6.42     24.2    1.0\n",
       " 2    0.027  4.69   7.18     24.2    1.0\n",
       " 3    0.032  4.58   7.00     22.2    1.0\n",
       " 4    0.069  4.58   7.15     22.2    1.0\n",
       " ..     ...   ...    ...      ...    ...\n",
       " 501  0.063  5.73   6.59     27.3    1.0\n",
       " 502  0.045  5.73   6.12     27.3    1.0\n",
       " 503  0.061  5.73   6.98     27.3    1.0\n",
       " 504  0.110  5.73   6.79     27.3    1.0\n",
       " 505  0.047  5.73   6.03     27.3    1.0\n",
       " \n",
       " [506 rows x 5 columns],\n",
       " 0   -0.012516\n",
       " 1   -0.047579\n",
       " 2    0.281556\n",
       " 3   -0.004263\n",
       " 4    8.655011\n",
       " dtype: float64)"
      ]
     },
     "execution_count": 13,
     "metadata": {},
     "output_type": "execute_result"
    }
   ],
   "source": [
    "X2,beta2"
   ]
  },
  {
   "cell_type": "markdown",
   "metadata": {},
   "source": [
    "We obviously still have the same order for the beta estimator ( const < nox < crime < proptax < 0 < rooms < constant). Their magnitudes are scaled down as price is too with the logarithmic function\n",
    "\n",
    "We can read the beta value in this case like so: \n",
    "- If there is one more room the price is going to be increased by 0.281556*100 = 28%\n",
    "\n",
    "They all represent a ration that indicates how much they are going to increase/decrease Y if we add one unit to the variable without changing the others.\n"
   ]
  },
  {
   "cell_type": "markdown",
   "metadata": {},
   "source": [
    "#### 11. Run a regression of lprice on a constant, crime, lnox, rooms, lproptax. Comment on the histogram of the residuals. Interpret all coefficients. \n"
   ]
  },
  {
   "cell_type": "code",
   "execution_count": 14,
   "metadata": {},
   "outputs": [
    {
     "name": "stdout",
     "output_type": "stream",
     "text": [
      "38.820830547242934 % des variations de y ne sont pas expliqué par le modèle (dispersion des points autour de la droite)\n"
     ]
    },
    {
     "data": {
      "image/png": "[encoded data removed]",
      "text/plain": [
       "<Figure size 640x480 with 1 Axes>"
      ]
     },
     "metadata": {},
     "output_type": "display_data"
    }
   ],
   "source": [
    "X3 = X2.drop(['nox','proptax'], axis = 1)\n",
    "X3['lnox'] = log['lnox']\n",
    "X3['lproptax'] = log['lproptax']\n",
    "y3 = y2 \n",
    "\n",
    "beta = np.linalg.inv(X3.T @ X3)@X3.T@y3\n",
    "residual = y3 - np.array(X3) @ beta\n",
    "\n",
    "\n",
    "count = residual.value_counts(normalize=True, bins= 10, sort = True)*100\n",
    "bins = count.index\n",
    "for i, value in enumerate(count):\n",
    "    plt.text(bins[i].mid, value, f'{value:.2f}%', ha='center')\n",
    "\n",
    "\n",
    "plt.hist(residual, bins=10)\n",
    "plt.xticks( [ bins[i].left for i in range(len(bins))])\n",
    "plt.xlabel('val')\n",
    "plt.ylabel('occurence')\n",
    "plt.title('Histogram of the residuals')\n",
    "\n",
    "SSR = np.sum(residual**2)\n",
    "SST = np.sum((y2-np.mean(y2))**2)\n",
    "\n",
    "R2 = 1 - SSR/SST # SST = variance de y, SSR = Somme des carré des résidus\n",
    "\n",
    "print(100- R2*100, '% des variations de y ne sont pas expliqué par le modèle (dispersion des points autour de la droite)')"
   ]
  },
  {
   "cell_type": "code",
   "execution_count": 15,
   "metadata": {},
   "outputs": [
    {
     "data": {
      "text/plain": [
       "(0   -0.012802\n",
       " 1    0.280175\n",
       " 2    9.750517\n",
       " 3   -0.276915\n",
       " 4   -0.177870\n",
       " dtype: float64,\n",
       "      crime  rooms  const      lnox  lproptax\n",
       " 0    0.006   6.57    1.0  1.682688  5.690360\n",
       " 1    0.027   6.42    1.0  1.545433  5.488938\n",
       " 2    0.027   7.18    1.0  1.545433  5.488938\n",
       " 3    0.032   7.00    1.0  1.521699  5.402678\n",
       " 4    0.069   7.15    1.0  1.521699  5.402678\n",
       " ..     ...    ...    ...       ...       ...\n",
       " 501  0.063   6.59    1.0  1.745715  5.609472\n",
       " 502  0.045   6.12    1.0  1.745715  5.609472\n",
       " 503  0.061   6.98    1.0  1.745715  5.609472\n",
       " 504  0.110   6.79    1.0  1.745715  5.609472\n",
       " 505  0.047   6.03    1.0  1.745715  5.609472\n",
       " \n",
       " [506 rows x 5 columns])"
      ]
     },
     "execution_count": 15,
     "metadata": {},
     "output_type": "execute_result"
    }
   ],
   "source": [
    "beta, X3"
   ]
  },
  {
   "cell_type": "markdown",
   "metadata": {},
   "source": [
    "Again the R value is slightly higher than the previous one wich implies this model fits the best our Y. The residual histogram shows this result as the 2 bins in the middle have a higher percentage than the 2 other residual computed before.\n",
    "\n",
    "The last 2 values of the beta vector comes from log variable. They are comonly described as elasticities as they represent the ratio between the percentage increase from one variable and its impact in percentage to the other.\n",
    "\n",
    "In our case : \n",
    "\n",
    "$$ \\beta_{lprop}  = \\frac{\\Delta_{price}*lprop}{\\Delta_{lprop}*price} $$"
   ]
  },
  {
   "cell_type": "markdown",
   "metadata": {},
   "source": [
    "#### 12. In the specification of question 10, test the hypothesis H0: $\\beta_{nox}$ >0 vs. H1: $\\beta_{nox}$ < 0 at the 10% level"
   ]
  },
  {
   "cell_type": "markdown",
   "metadata": {},
   "source": [
    "On utilise le test de student comme notre coefficient suit une loi normale"
   ]
  },
  {
   "cell_type": "code",
   "execution_count": 16,
   "metadata": {},
   "outputs": [],
   "source": [
    "from scipy.stats import t, f"
   ]
  },
  {
   "cell_type": "code",
   "execution_count": 17,
   "metadata": {},
   "outputs": [
    {
     "name": "stdout",
     "output_type": "stream",
     "text": [
      "student : -3.5570290100062327\n",
      "quantile d ordre 0.9 : 1.283243632011177\n",
      "0.00020534795263027483\n"
     ]
    }
   ],
   "source": [
    "X2 = X1.copy()\n",
    "y2 = log['lprice']\n",
    "\n",
    "beta2 = np.linalg.inv(X2.T @ X2)@X2.T@y2\n",
    "residual2 = y2 - np.array(X2) @ beta2\n",
    "\n",
    "n, k = np.shape(X2)\n",
    "sig2 = residual2.T@residual2/(n-k)\n",
    "\n",
    "#beta\n",
    "var = sig2*np.linalg.inv(X2.T @ X2)\n",
    "std = np.sqrt(np.diag(var))\n",
    "\n",
    "z = beta2[1]/std[1]\n",
    "\n",
    "qAlpha = t.ppf(0.9,n-k)\n",
    "print('student :', z) \n",
    "print('quantile d ordre 0.9 :', qAlpha)\n",
    "\n",
    "print(1- t.sf(z,n-k))\n"
   ]
  },
  {
   "cell_type": "code",
   "execution_count": 18,
   "metadata": {},
   "outputs": [
    {
     "data": {
      "text/html": [
       "<div>\n",
       "<style scoped>\n",
       "    .dataframe tbody tr th:only-of-type {\n",
       "        vertical-align: middle;\n",
       "    }\n",
       "\n",
       "    .dataframe tbody tr th {\n",
       "        vertical-align: top;\n",
       "    }\n",
       "\n",
       "    .dataframe thead th {\n",
       "        text-align: right;\n",
       "    }\n",
       "</style>\n",
       "<table border=\"1\" class=\"dataframe\">\n",
       "  <thead>\n",
       "    <tr style=\"text-align: right;\">\n",
       "      <th></th>\n",
       "      <th>crime</th>\n",
       "      <th>nox</th>\n",
       "      <th>rooms</th>\n",
       "      <th>proptax</th>\n",
       "      <th>const</th>\n",
       "    </tr>\n",
       "  </thead>\n",
       "  <tbody>\n",
       "    <tr>\n",
       "      <th>0</th>\n",
       "      <td>0.006</td>\n",
       "      <td>5.38</td>\n",
       "      <td>6.57</td>\n",
       "      <td>29.6</td>\n",
       "      <td>1.0</td>\n",
       "    </tr>\n",
       "    <tr>\n",
       "      <th>1</th>\n",
       "      <td>0.027</td>\n",
       "      <td>4.69</td>\n",
       "      <td>6.42</td>\n",
       "      <td>24.2</td>\n",
       "      <td>1.0</td>\n",
       "    </tr>\n",
       "    <tr>\n",
       "      <th>2</th>\n",
       "      <td>0.027</td>\n",
       "      <td>4.69</td>\n",
       "      <td>7.18</td>\n",
       "      <td>24.2</td>\n",
       "      <td>1.0</td>\n",
       "    </tr>\n",
       "    <tr>\n",
       "      <th>3</th>\n",
       "      <td>0.032</td>\n",
       "      <td>4.58</td>\n",
       "      <td>7.00</td>\n",
       "      <td>22.2</td>\n",
       "      <td>1.0</td>\n",
       "    </tr>\n",
       "    <tr>\n",
       "      <th>4</th>\n",
       "      <td>0.069</td>\n",
       "      <td>4.58</td>\n",
       "      <td>7.15</td>\n",
       "      <td>22.2</td>\n",
       "      <td>1.0</td>\n",
       "    </tr>\n",
       "    <tr>\n",
       "      <th>...</th>\n",
       "      <td>...</td>\n",
       "      <td>...</td>\n",
       "      <td>...</td>\n",
       "      <td>...</td>\n",
       "      <td>...</td>\n",
       "    </tr>\n",
       "    <tr>\n",
       "      <th>501</th>\n",
       "      <td>0.063</td>\n",
       "      <td>5.73</td>\n",
       "      <td>6.59</td>\n",
       "      <td>27.3</td>\n",
       "      <td>1.0</td>\n",
       "    </tr>\n",
       "    <tr>\n",
       "      <th>502</th>\n",
       "      <td>0.045</td>\n",
       "      <td>5.73</td>\n",
       "      <td>6.12</td>\n",
       "      <td>27.3</td>\n",
       "      <td>1.0</td>\n",
       "    </tr>\n",
       "    <tr>\n",
       "      <th>503</th>\n",
       "      <td>0.061</td>\n",
       "      <td>5.73</td>\n",
       "      <td>6.98</td>\n",
       "      <td>27.3</td>\n",
       "      <td>1.0</td>\n",
       "    </tr>\n",
       "    <tr>\n",
       "      <th>504</th>\n",
       "      <td>0.110</td>\n",
       "      <td>5.73</td>\n",
       "      <td>6.79</td>\n",
       "      <td>27.3</td>\n",
       "      <td>1.0</td>\n",
       "    </tr>\n",
       "    <tr>\n",
       "      <th>505</th>\n",
       "      <td>0.047</td>\n",
       "      <td>5.73</td>\n",
       "      <td>6.03</td>\n",
       "      <td>27.3</td>\n",
       "      <td>1.0</td>\n",
       "    </tr>\n",
       "  </tbody>\n",
       "</table>\n",
       "<p>506 rows × 5 columns</p>\n",
       "</div>"
      ],
      "text/plain": [
       "     crime   nox  rooms  proptax  const\n",
       "0    0.006  5.38   6.57     29.6    1.0\n",
       "1    0.027  4.69   6.42     24.2    1.0\n",
       "2    0.027  4.69   7.18     24.2    1.0\n",
       "3    0.032  4.58   7.00     22.2    1.0\n",
       "4    0.069  4.58   7.15     22.2    1.0\n",
       "..     ...   ...    ...      ...    ...\n",
       "501  0.063  5.73   6.59     27.3    1.0\n",
       "502  0.045  5.73   6.12     27.3    1.0\n",
       "503  0.061  5.73   6.98     27.3    1.0\n",
       "504  0.110  5.73   6.79     27.3    1.0\n",
       "505  0.047  5.73   6.03     27.3    1.0\n",
       "\n",
       "[506 rows x 5 columns]"
      ]
     },
     "execution_count": 18,
     "metadata": {},
     "output_type": "execute_result"
    }
   ],
   "source": [
    "X2"
   ]
  },
  {
   "cell_type": "markdown",
   "metadata": {},
   "source": [
    "Le quantile d'ordre $\\alpha$ pour la loi de student de 501 degré de liberté est supèrieur à notre statistique de test. On rejette donc H0"
   ]
  },
  {
   "cell_type": "markdown",
   "metadata": {},
   "source": [
    "#### 13. In the specification of question 10, test the hypothesis H0: $\\beta_{nox} = 0 vs. H1: \\beta{nox} ≠ 0 $ at the 10% level using the p-value of the test "
   ]
  },
  {
   "cell_type": "code",
   "execution_count": 19,
   "metadata": {},
   "outputs": [
    {
     "name": "stdout",
     "output_type": "stream",
     "text": [
      "p-value : 0.00041069590526054967\n"
     ]
    }
   ],
   "source": [
    "print('p-value :', 2*(1-t.sf(z , n-k)))"
   ]
  },
  {
   "cell_type": "markdown",
   "metadata": {},
   "source": [
    "We find p-value < 0.1, we reject H0 $\\beta{nox} = 0 $\n",
    "\n",
    "#### 14. In the specification of question 10, test the hypothesis H0: $\\beta{crime} = \\beta{proptax} $ at the 1% level \n"
   ]
  },
  {
   "cell_type": "code",
   "execution_count": 20,
   "metadata": {},
   "outputs": [
    {
     "name": "stdout",
     "output_type": "stream",
     "text": [
      "     crime   nox  rooms  const  proptax+crime\n",
      "0    0.006  5.38   6.57    1.0         29.606\n",
      "1    0.027  4.69   6.42    1.0         24.227\n",
      "2    0.027  4.69   7.18    1.0         24.227\n",
      "3    0.032  4.58   7.00    1.0         22.232\n",
      "4    0.069  4.58   7.15    1.0         22.269\n",
      "..     ...   ...    ...    ...            ...\n",
      "501  0.063  5.73   6.59    1.0         27.363\n",
      "502  0.045  5.73   6.12    1.0         27.345\n",
      "503  0.061  5.73   6.98    1.0         27.361\n",
      "504  0.110  5.73   6.79    1.0         27.410\n",
      "505  0.047  5.73   6.03    1.0         27.347\n",
      "\n",
      "[506 rows x 5 columns]\n",
      "p-value : 0.00032020806458921136\n"
     ]
    }
   ],
   "source": [
    "X2 = X1.copy()\n",
    "X2['proptax+crime'] = X2['proptax'] + X2['crime']\n",
    "X2 = X2.drop(['proptax'], axis = 1)\n",
    "print(X2)\n",
    "beta2 = np.linalg.inv(X2.T @ X2)@X2.T@y2\n",
    "residual2 = y2 - np.array(X2) @ beta2\n",
    "n, k = np.shape(X2)\n",
    "sig2 = residual2.T@residual2/(n-k)\n",
    "#beta\n",
    "var = sig2*np.linalg.inv(X2.T @ X2)\n",
    "std = np.sqrt(np.diag(var))\n",
    "\n",
    "z = beta2[0]/std[0]\n",
    "\n",
    "print('p-value :', 2*((1-t.sf(z , n-k))))\n",
    "\n"
   ]
  },
  {
   "cell_type": "markdown",
   "metadata": {},
   "source": [
    "p-value < 0.1, on rejette donc notre hypothèse H0\n",
    "\n",
    "#### 15. In the specification of question 10, test the hypothesis H0: $\\beta_{nox} = 0, \\beta_{proptax}= 0 $ at the 1% level"
   ]
  },
  {
   "cell_type": "code",
   "execution_count": 21,
   "metadata": {},
   "outputs": [
    {
     "name": "stdout",
     "output_type": "stream",
     "text": [
      "2.529376422561145e-14\n"
     ]
    }
   ],
   "source": [
    "\n",
    "#non contraint\n",
    "X2 = X1.copy()\n",
    "n, k = np.shape(X2)\n",
    "beta2 = np.linalg.inv(X2.T @ X2)@X2.T@y2\n",
    "residual2 = y2 - np.array(X2) @ beta2\n",
    "SSR0 = residual2.T@residual2\n",
    "\n",
    "#contraint\n",
    "X2 = X2.drop(['nox','proptax'], axis = 1)\n",
    "beta2 = np.linalg.inv(X2.T @ X2)@X2.T@y2\n",
    "residual2 = y2 - np.array(X2) @ beta2\n",
    "SSR1 = residual2.T@residual2\n",
    "\n",
    "F =  ((SSR1-SSR0)/2)/(SSR0/(n-k))\n",
    "print(f.sf(F,2,n-k))"
   ]
  },
  {
   "cell_type": "markdown",
   "metadata": {},
   "source": [
    "p-value < 0.01, we reject H0\n",
    "\n",
    "#### 16. In the specification of question 10, test the hypothesis H0: $\\beta_{nox} = -500, \\beta_{proptax} = -100 $ at the 1% level using the p-value of the test \n"
   ]
  },
  {
   "cell_type": "code",
   "execution_count": 22,
   "metadata": {},
   "outputs": [
    {
     "data": {
      "text/plain": [
       "0.0"
      ]
     },
     "execution_count": 22,
     "metadata": {},
     "output_type": "execute_result"
    }
   ],
   "source": [
    "X2 = X1.copy()\n",
    "\n",
    "y3 = y2 + (X2['nox'] *500 + X2['proptax'] *100) \n",
    "\n",
    "X2 = X2.drop(['nox','proptax'], axis = 1)\n",
    "\n",
    "beta2 = np.linalg.inv(X2.T @ X2)@X2.T@y3\n",
    "residual2 = y3 - np.array(X2) @ beta2\n",
    "\n",
    "SSR1 = residual2.T@residual2\n",
    "\n",
    "T =  ((SSR1-SSR0)/2)/(SSR0/(n-k))\n",
    "f.sf(T,2,n-k)"
   ]
  },
  {
   "cell_type": "markdown",
   "metadata": {},
   "source": [
    "p value < 0.01 --> we reject H0\n",
    "\n",
    "#### 17. In the specification of question 10, test the hypothesis H0: $\\beta_{nox} + \\beta_{proptax} = -1000 $ at the 1% level using the p-value of the test \n",
    "\n",
    "$ \\beta_{nox} = - 1000 - \\beta_{proptax} -\\sigma$ \n",
    "\n",
    "$ \\beta_{nox} X_{nox} +  \\beta_{proptax}X_{proptax} = \\beta_{proptax}(X_{proptax}-X_{nox}) -1000X_{nox} - \\sigma X_{noc} $ \n",
    "\n",
    "On estime $y + 1000X_{nox}$ par crime rooms proptax (proptax-nox) et const \n"
   ]
  },
  {
   "cell_type": "code",
   "execution_count": 23,
   "metadata": {},
   "outputs": [
    {
     "name": "stdout",
     "output_type": "stream",
     "text": [
      "p-value : 1.0\n"
     ]
    }
   ],
   "source": [
    "y3 = y2 + 1000*X1['nox'] \n",
    "\n",
    "X3 = X1.copy()\n",
    "n, k = X3.shape\n",
    "X3['Xproptax-Xnox'] = X['proptax'] - X['nox']\n",
    "X3 = X3.drop(['proptax'], axis = 1)\n",
    "\n",
    "beta3 = np.linalg.inv(X3.T @ X3)@X3.T@y3\n",
    "residual3 = y3 - np.array(X3) @ beta3\n",
    "\n",
    "sig2 = residual3.T@residual3/(n-k)\n",
    "#beta\n",
    "var = sig2*np.linalg.inv(X3.T @ X3)\n",
    "std = np.sqrt(np.diag(var))\n",
    "\n",
    "\n",
    "z = beta2[1]/std[1]\n",
    "print('p-value :', t.sf(z , n-k))\n"
   ]
  },
  {
   "cell_type": "code",
   "execution_count": 24,
   "metadata": {},
   "outputs": [
    {
     "data": {
      "text/plain": [
       "(0     -0.012516\n",
       " 1    999.948159\n",
       " 2      0.281556\n",
       " 3      8.655011\n",
       " 4     -0.004263\n",
       " dtype: float64,\n",
       "      crime   nox  rooms  const  Xproptax-Xnox\n",
       " 0    0.006  5.38   6.57    1.0          24.22\n",
       " 1    0.027  4.69   6.42    1.0          19.51\n",
       " 2    0.027  4.69   7.18    1.0          19.51\n",
       " 3    0.032  4.58   7.00    1.0          17.62\n",
       " 4    0.069  4.58   7.15    1.0          17.62\n",
       " ..     ...   ...    ...    ...            ...\n",
       " 501  0.063  5.73   6.59    1.0          21.57\n",
       " 502  0.045  5.73   6.12    1.0          21.57\n",
       " 503  0.061  5.73   6.98    1.0          21.57\n",
       " 504  0.110  5.73   6.79    1.0          21.57\n",
       " 505  0.047  5.73   6.03    1.0          21.57\n",
       " \n",
       " [506 rows x 5 columns],\n",
       " -46462.56207384501)"
      ]
     },
     "execution_count": 24,
     "metadata": {},
     "output_type": "execute_result"
    }
   ],
   "source": [
    "beta3, X3, z"
   ]
  },
  {
   "cell_type": "markdown",
   "metadata": {},
   "source": [
    "On rejette l'hypothèse (p-value < 0.01)\n",
    "\n",
    "#### 18. In the specification of question 10, test the hypothesis that all coefficients are the same for observations with low levels of nox vs. medium and high levels of nox\n",
    "\n",
    "\n",
    "\n",
    "Our restrictions are : $ \\beta_{const} - \\beta_{proptax}= 0$,  $\\beta_{rooms} - \\beta_{proptax} = 0$, $\\beta_{nox} - \\beta_{proptax} = 0$, $\\beta_{crime} - \\beta_{nox} = 0 $ \n",
    "\n",
    "The restricted model would be : $ \\log(price)  = \\beta_{crime} (X_{crime} + X_{rooms} + X_{proptax} + X_{nox} + 1) + \\sigma_1(X_{rooms} + X_{proptax} + X_{nox} + 1) + \\sigma_2(X_{proptax} + X_{nox} + 1) + \\sigma_3(X_{nox} + 1) + \\sigma_4 $\n",
    "\n",
    "Avec $\\sigma_i = 0 $\n",
    "\n"
   ]
  },
  {
   "cell_type": "code",
   "execution_count": 25,
   "metadata": {},
   "outputs": [
    {
     "name": "stdout",
     "output_type": "stream",
     "text": [
      "[1.4350823122808225e-215]\n"
     ]
    },
    {
     "ename": "TypeError",
     "evalue": "Series.any() takes 1 positional argument but 2 were given",
     "output_type": "error",
     "traceback": [
      "\u001b[1;31m---------------------------------------------------------------------------\u001b[0m",
      "\u001b[1;31mTypeError\u001b[0m                                 Traceback (most recent call last)",
      "\u001b[1;32mc:\\Git\\projetMODS202\\project.ipynb Cell 45\u001b[0m line \u001b[0;36m3\n\u001b[0;32m     <a href='vscode-notebook-cell:/c%3A/Git/projetMODS202/project.ipynb#X62sZmlsZQ%3D%3D?line=25'>26</a>\u001b[0m pValue\u001b[39m.\u001b[39mappend(f\u001b[39m.\u001b[39msf(F,\u001b[39m4\u001b[39m,n\u001b[39m-\u001b[39mk))\n\u001b[0;32m     <a href='vscode-notebook-cell:/c%3A/Git/projetMODS202/project.ipynb#X62sZmlsZQ%3D%3D?line=28'>29</a>\u001b[0m \u001b[39mprint\u001b[39m(pValue)\n\u001b[1;32m---> <a href='vscode-notebook-cell:/c%3A/Git/projetMODS202/project.ipynb#X62sZmlsZQ%3D%3D?line=31'>32</a>\u001b[0m X3 \u001b[39m=\u001b[39m X1[mediumNox\u001b[39m.\u001b[39;49many(highNox)]\n\u001b[0;32m     <a href='vscode-notebook-cell:/c%3A/Git/projetMODS202/project.ipynb#X62sZmlsZQ%3D%3D?line=32'>33</a>\u001b[0m y3 \u001b[39m=\u001b[39m y2[mediumNox\u001b[39m.\u001b[39many(highNox)]\n\u001b[0;32m     <a href='vscode-notebook-cell:/c%3A/Git/projetMODS202/project.ipynb#X62sZmlsZQ%3D%3D?line=33'>34</a>\u001b[0m n, k \u001b[39m=\u001b[39m X3\u001b[39m.\u001b[39mshape\n",
      "\u001b[1;31mTypeError\u001b[0m: Series.any() takes 1 positional argument but 2 were given"
     ]
    }
   ],
   "source": [
    "lowNox = df['nox'] <= np.percentile(df['nox'], 39)\n",
    "mediumNox =  np.logical_and(df['nox'] <= np.percentile(df['nox'], 60), df['nox'] >= np.percentile(df['nox'], 40))\n",
    "highNox = df['nox'] >= np.percentile(df['nox'], 61)\n",
    "\n",
    "\n",
    "pValue = []\n",
    "\n",
    "X3 = X1[lowNox]\n",
    "y3 = y2[lowNox]\n",
    "n, k = X3.shape\n",
    "\n",
    "#non contraint\n",
    "model=sm.OLS(y3,X3)\n",
    "results = model.fit()\n",
    "u=results.resid\n",
    "SSRur=u.T@u\n",
    "\n",
    "X3 = X3['crime'] + X3['nox'] + X3['rooms'] + X3['proptax'] \n",
    "model=sm.OLS(y3,X3)\n",
    "results = model.fit()\n",
    "u=results.resid\n",
    "SSRr=u.T@u\n",
    "\n",
    "#test\n",
    "F = ((SSRr-SSRur)/4)/(SSRur/(n-k))\n",
    "pValue.append(f.sf(F,4,n-k))\n",
    "\n",
    "\n",
    "print(pValue)\n",
    "\n",
    "\n",
    "X3 = X1[mediumNox.any(highNox)]\n",
    "y3 = y2[mediumNox.any(highNox)]\n",
    "n, k = X3.shape\n",
    "\n",
    "#non contraint\n",
    "model=sm.OLS(y3,X3)\n",
    "results = model.fit()\n",
    "u=results.resid\n",
    "SSRur=u.T@u\n",
    "\n",
    "X3 = X3['crime'] + X3['nox'] + X3['rooms'] + X3['proptax'] \n",
    "model=sm.OLS(y3,X3)\n",
    "results = model.fit()\n",
    "u=results.resid\n",
    "SSRr=u.T@u\n",
    "\n",
    "#test\n",
    "F = ((SSRr-SSRur)/4)/(SSRur/(n-k))\n",
    "pValue.append(f.sf(F,4,n-k))\n",
    "\n",
    "\n",
    "print(pValue)\n",
    "\n",
    "\n",
    "\n",
    "\n",
    "\n",
    "\n"
   ]
  },
  {
   "cell_type": "markdown",
   "metadata": {},
   "source": [
    "Whatever sample we take the p-value is always inferior to our treshold (0.01), we reject H0"
   ]
  },
  {
   "cell_type": "markdown",
   "metadata": {},
   "source": [
    "#### 19. Repeat the test of question 18 but now assuming that only the coefficients of nox and proptax can change between the two groups of observations. State and test H0. \n",
    "\n",
    "Our restrictions are : $ \\beta_{const} - \\beta_{rooms}= 0$, $\\beta_{crime} - \\beta_{room} = 0 $"
   ]
  },
  {
   "cell_type": "code",
   "execution_count": null,
   "metadata": {},
   "outputs": [
    {
     "name": "stdout",
     "output_type": "stream",
     "text": [
      "[1.1228055183656961e-105, 1.2428411231454685e-49, 4.6373525457918576e-110]\n"
     ]
    }
   ],
   "source": [
    "pValue = []\n",
    "for typeNox in [lowNox,mediumNox,highNox]:\n",
    "    X3 = X1[typeNox]\n",
    "    y3 = log['lprice'][typeNox]\n",
    "    n, k = X3.shape\n",
    "\n",
    "    #non contraint\n",
    "    model=sm.OLS(y3,X3)\n",
    "    results = model.fit()\n",
    "    u=results.resid\n",
    "    SSRur=u.T@u\n",
    "\n",
    "    #contraint\n",
    "    X3 = np.column_stack((X3['crime'] + X3['rooms'] + 1, X3['proptax'], X3['nox']))\n",
    "    model=sm.OLS(y3,X3)\n",
    "    results = model.fit()\n",
    "    u=results.resid\n",
    "    SSRr=u.T@u\n",
    "\n",
    "    F = ((SSRr-SSRur)/2)/(SSRur/(n-k))\n",
    "    pValue.append(f.sf(F,2,n-k))\n",
    "\n",
    "\n",
    "print(pValue)"
   ]
  },
  {
   "cell_type": "markdown",
   "metadata": {},
   "source": [
    "Whatever sample we take the p-value is always inferior to our treshold (0.01), we reject H0\n",
    "\n",
    "### PART 2 - HETEROSKEDASTICITY \n",
    "\n",
    "#### 20. Explain the problem of heteroscedasticity with an example of the course. \n",
    "\n",
    "Heterosckedascity is when the disturbance random variables (u) does not have a constant variance. It happens when the variable depends on the $X_i$ variable or their indices. It can be detected using a test by supposing linearity on u^2 and test if all coefficient are null (ie : $Var(u) = E[u^2] = C, \\forall C$  )\n",
    "\n",
    "The problem is our estimator is based on the ordinary least squares method wich assumes homescedacity (one of the hypothesis to assert our estimator is optimal wich allows us to calculate Var(Beta)). \n",
    "\n",
    "#### 21. Suppose that $E[\\epsilon \\epsilon^T] = \\sigma^2\\Omega $ . Show that the GLS estimator is the best linear unbiased estimator. \n",
    "\n",
    "$ \\hat\\beta = (X^T\\Omega^{-1} X)^{-1} X^T\\Omega^{-1}y $ \n",
    "\n",
    "$ E[\\hat\\beta] = E[(X^T\\Omega X)^{-1} X^T\\Omega^{-1} (X\\beta + u)]  = \\beta + X^{-1} E[\\epsilon] = \\beta $\n",
    "\n",
    "So unbiased\n",
    "\n",
    "$\\Omega = CC^T = LDL^T $ cholesky decomposition and LDL decomposition with $ C = LD^{1/2} $ \n",
    "\n",
    "$\\hat\\beta$ can be estimated by resolving a linearly transformed version of the Data :\n",
    "\n",
    "$ C^{-1} y = C^{-1} X\\beta+ C^{-1} \\epsilon = y^* = X^*\\beta+ \\epsilon^*$\n",
    "\n",
    "So that we minimize : $\\epsilon^*(\\epsilon^*)^T = (y^* - X^*\\beta)^T(y^* - X^*\\beta)= (y^ - X^\\beta)^T\\Omega(y^ - X^\\beta)$\n",
    "\n",
    "$ Var(\\epsilon^*) = E[\\epsilon^*(\\epsilon^*)^T] = E[C^{-1}\\epsilon(C^{-1}\\epsilon)^T]$\n",
    "\n",
    "With $C^{-1} = (LD^{1/2})^{-1} = D^{-1/2}L^{-1} = D^{-1/2}L^T $ as L orthogonal\n",
    "\n",
    "So : \n",
    "\\begin{equation}\n",
    "\\begin{split}\n",
    "Var(\\epsilon^*) &= \\sigma^2 C^{-1} \\Omega (C^{-1})^T = \\sigma^2 D^{-1/2}L^T \\Omega (D^{-1/2}L^T)^T \\\\\n",
    "&= \\sigma^2 D^{-1/2}L^T (LDL^T) L D^{-1/2} \\\\\n",
    "&= \\sigma^2 D^{-1/2} D D^{-1/2} = \\sigma^2 I = \\sigma^2\n",
    "\\end{split}  \n",
    "\\end{equation}\n",
    "\n",
    "As a result the errors from the modified linear model are homoskedastic and uncorrelated. It implies that our least square estimator is efficient (with the hypothesis : $E[\\epsilon \\epsilon^T] = \\sigma^2\\Omega $) \n",
    "\n",
    "\n",
    "As a result it is the best linear unbiased model.\n",
    "\n",
    "\n",
    "#### 22. In the specification of question 10, test the hypothesis of no heteroskedasticity of linear form, i.e. in the regression of $u^2$ on constant, crime, nox, rooms, proptax, test H0: $\\beta_{crime}, \\beta_{nox}, \\beta_ {room}, \\beta_{proptax} = 0$, where the coefficients $\\beta_k$ (k = crime, nox, rooms, proptax) are associated \n",
    " "
   ]
  },
  {
   "cell_type": "code",
   "execution_count": null,
   "metadata": {},
   "outputs": [
    {
     "name": "stdout",
     "output_type": "stream",
     "text": [
      "                            OLS Regression Results                            \n",
      "==============================================================================\n",
      "Dep. Variable:                 lprice   R-squared:                       0.126\n",
      "Model:                            OLS   Adj. R-squared:                  0.119\n",
      "Method:                 Least Squares   F-statistic:                     17.98\n",
      "Date:                Sun, 03 Dec 2023   Prob (F-statistic):           8.33e-14\n",
      "Time:                        14:58:41   Log-Likelihood:                 185.10\n",
      "No. Observations:                 506   AIC:                            -360.2\n",
      "Df Residuals:                     501   BIC:                            -339.1\n",
      "Df Model:                           4                                         \n",
      "Covariance Type:            nonrobust                                         \n",
      "==============================================================================\n",
      "                 coef    std err          t      P>|t|      [0.025      0.975]\n",
      "------------------------------------------------------------------------------\n",
      "crime      -3.794e-05      0.001     -0.035      0.972      -0.002       0.002\n",
      "nox            0.0001      0.009      0.017      0.986      -0.017       0.017\n",
      "rooms         -0.0237      0.011     -2.096      0.037      -0.046      -0.001\n",
      "proptax        0.0034      0.001      5.026      0.000       0.002       0.005\n",
      "const          0.0757      0.090      0.842      0.400      -0.101       0.253\n",
      "==============================================================================\n",
      "Omnibus:                      612.530   Durbin-Watson:                   0.914\n",
      "Prob(Omnibus):                  0.000   Jarque-Bera (JB):            48787.030\n",
      "Skew:                           5.865   Prob(JB):                         0.00\n",
      "Kurtosis:                      49.652   Cond. No.                         546.\n",
      "==============================================================================\n",
      "\n",
      "Notes:\n",
      "[1] Standard Errors assume that the covariance matrix of the errors is correctly specified.\n"
     ]
    }
   ],
   "source": [
    "X2 = X1.copy()\n",
    "y2 = log['lprice']\n",
    "\n",
    "beta2 = np.linalg.inv(X2.T @ X2)@X2.T@y2\n",
    "residual2 = y2 - np.array(X2) @ beta2\n",
    "\n",
    "model = sm.OLS(residual2**2, X2)\n",
    "results = model.fit()\n",
    "print(results.summary())\n"
   ]
  },
  {
   "cell_type": "markdown",
   "metadata": {},
   "source": [
    "F statistic = 17.98 with a probability of 8.33e-14, we reject H0 (p <0.01). We reject the hypothesis of no heteroskedascity of linear form.\n",
    "\n",
    "#### 23. In the specification of question 11, test the hypothesis of no heteroskedasticity of linear form"
   ]
  },
  {
   "cell_type": "code",
   "execution_count": null,
   "metadata": {},
   "outputs": [
    {
     "name": "stdout",
     "output_type": "stream",
     "text": [
      "                            OLS Regression Results                            \n",
      "==============================================================================\n",
      "Dep. Variable:                 lprice   R-squared:                       0.114\n",
      "Model:                            OLS   Adj. R-squared:                  0.107\n",
      "Method:                 Least Squares   F-statistic:                     16.19\n",
      "Date:                Sun, 03 Dec 2023   Prob (F-statistic):           1.76e-12\n",
      "Time:                        15:12:44   Log-Likelihood:                 181.93\n",
      "No. Observations:                 506   AIC:                            -353.9\n",
      "Df Residuals:                     501   BIC:                            -332.7\n",
      "Df Model:                           4                                         \n",
      "Covariance Type:            nonrobust                                         \n",
      "==============================================================================\n",
      "                 coef    std err          t      P>|t|      [0.025      0.975]\n",
      "------------------------------------------------------------------------------\n",
      "crime          0.0005      0.001      0.498      0.619      -0.002       0.003\n",
      "rooms         -0.0231      0.011     -2.028      0.043      -0.046      -0.001\n",
      "const         -0.5365      0.168     -3.193      0.001      -0.867      -0.206\n",
      "lnox           0.0401      0.051      0.785      0.433      -0.060       0.141\n",
      "lproptax       0.1141      0.028      4.079      0.000       0.059       0.169\n",
      "==============================================================================\n",
      "Omnibus:                      617.626   Durbin-Watson:                   0.910\n",
      "Prob(Omnibus):                  0.000   Jarque-Bera (JB):            50130.064\n",
      "Skew:                           5.946   Prob(JB):                         0.00\n",
      "Kurtosis:                      50.289   Cond. No.                         241.\n",
      "==============================================================================\n",
      "\n",
      "Notes:\n",
      "[1] Standard Errors assume that the covariance matrix of the errors is correctly specified.\n"
     ]
    }
   ],
   "source": [
    "X3 = X2.drop(['nox','proptax'], axis = 1)\n",
    "X3['lnox'] = log['lnox']\n",
    "X3['lproptax'] = log['lproptax']\n",
    "y3 = log['lprice'] \n",
    "\n",
    "beta3 = np.linalg.inv(X3.T @ X3)@X3.T@y3\n",
    "residual = y3 - np.array(X3) @ beta3\n",
    "\n",
    "model = sm.OLS(residual2**2, X3)\n",
    "results = model.fit()\n",
    "print(results.summary())\n"
   ]
  },
  {
   "cell_type": "markdown",
   "metadata": {},
   "source": [
    "F = 16.19, p_value = 1.76e-12 < 0.01, We reject the hypothesis H0\n",
    "\n",
    "#### 24. In the specification of question 9, test the hypothesis of no heteroskedasticity of linear form"
   ]
  },
  {
   "cell_type": "code",
   "execution_count": null,
   "metadata": {},
   "outputs": [
    {
     "name": "stdout",
     "output_type": "stream",
     "text": [
      "                            OLS Regression Results                            \n",
      "==============================================================================\n",
      "Dep. Variable:                  price   R-squared:                       0.051\n",
      "Model:                            OLS   Adj. R-squared:                  0.044\n",
      "Method:                 Least Squares   F-statistic:                     6.799\n",
      "Date:                Sun, 03 Dec 2023   Prob (F-statistic):           2.47e-05\n",
      "Time:                        15:20:28   Log-Likelihood:                -10130.\n",
      "No. Observations:                 506   AIC:                         2.027e+04\n",
      "Df Residuals:                     501   BIC:                         2.029e+04\n",
      "Df Model:                           4                                         \n",
      "Covariance Type:            nonrobust                                         \n",
      "==============================================================================\n",
      "                 coef    std err          t      P>|t|      [0.025      0.975]\n",
      "------------------------------------------------------------------------------\n",
      "crime      -9.687e+05   7.69e+05     -1.260      0.208   -2.48e+06    5.42e+05\n",
      "nox         9.091e+05   6.28e+06      0.145      0.885   -1.14e+07    1.32e+07\n",
      "rooms        2.63e+06   8.07e+06      0.326      0.745   -1.32e+07    1.85e+07\n",
      "proptax      1.88e+06   4.78e+05      3.931      0.000     9.4e+05    2.82e+06\n",
      "const      -5.885e+07   6.41e+07     -0.917      0.359   -1.85e+08    6.72e+07\n",
      "==============================================================================\n",
      "Omnibus:                      760.905   Durbin-Watson:                   0.777\n",
      "Prob(Omnibus):                  0.000   Jarque-Bera (JB):           159893.659\n",
      "Skew:                           8.299   Prob(JB):                         0.00\n",
      "Kurtosis:                      88.489   Cond. No.                         546.\n",
      "==============================================================================\n",
      "\n",
      "Notes:\n",
      "[1] Standard Errors assume that the covariance matrix of the errors is correctly specified.\n"
     ]
    }
   ],
   "source": [
    "X2 = X1.copy()\n",
    "y2 = y.copy()\n",
    "\n",
    "beta2 = np.linalg.inv(X2.T @ X2)@X2.T@y2\n",
    "residual2 = y2 - np.array(X2) @ beta2\n",
    "\n",
    "model = sm.OLS(residual2**2, X2)\n",
    "results = model.fit()\n",
    "print(results.summary())"
   ]
  },
  {
   "cell_type": "markdown",
   "metadata": {},
   "source": [
    "F = 6.799, p_value = 2.47e-05 < 0.01, We reject the hypothesis H0\n",
    "\n",
    "#### 25. Comment on the differences between your results of questions 22,23, 24.\n",
    "\n",
    "We find :\n",
    "\n",
    "$\\textbf{9/ price : constant, crime, nox, rooms, proptax}$ :  F-statistic: 6.799, p_value = 2.47e-05\n",
    "\n",
    "$ \\textbf{10/ lprice : constant, crime, nox, rooms, proptax}$ : F-statistic: 17.98, p_value = 8.33e-14\n",
    "\n",
    "$ \\textbf{11/ lprice : constant, crime, lnox, rooms, lproptax}$ : F-statistic: 16.16, p_value =1.76e-12\n",
    "\n",
    "\n",
    "The p-value is the probability of obtaining test results at least as extreme as the result actually observed, under the assumption that the null hypothesis is correct. It means that the closest to 0 the p value is, the most unlikely our hypothesis will be true. As a result we can compare our p-value results to assess wich are the variable wich limit the most the difference in variance from our errors (heteroskedascity)\n",
    "\n",
    "In our case, the specification from question 9 is the 'best' variable choice to limit heteroscedascity.\n",
    "\n",
    "#### 26. Regardless of the results of the test of question 22, identify the most significant variable causing heteroskedasticity using the student statistics and run a WLS regression with the identified variable as weight.\n",
    "\n"
   ]
  },
  {
   "cell_type": "code",
   "execution_count": null,
   "metadata": {},
   "outputs": [
    {
     "name": "stdout",
     "output_type": "stream",
     "text": [
      "                            WLS Regression Results                            \n",
      "==============================================================================\n",
      "Dep. Variable:                 lprice   R-squared:                       0.128\n",
      "Model:                            WLS   Adj. R-squared:                  0.121\n",
      "Method:                 Least Squares   F-statistic:                     18.41\n",
      "Date:                Sun, 03 Dec 2023   Prob (F-statistic):           3.99e-14\n",
      "Time:                        17:26:04   Log-Likelihood:                 207.46\n",
      "No. Observations:                 506   AIC:                            -404.9\n",
      "Df Residuals:                     501   BIC:                            -383.8\n",
      "Df Model:                           4                                         \n",
      "Covariance Type:            nonrobust                                         \n",
      "==============================================================================\n",
      "                 coef    std err          t      P>|t|      [0.025      0.975]\n",
      "------------------------------------------------------------------------------\n",
      "crime       9.884e-05      0.001      0.091      0.927      -0.002       0.002\n",
      "nox            0.0034      0.009      0.390      0.697      -0.014       0.021\n",
      "rooms         -0.0211      0.011     -1.941      0.053      -0.043       0.000\n",
      "proptax        0.0032      0.001      4.811      0.000       0.002       0.004\n",
      "const          0.0486      0.087      0.560      0.576      -0.122       0.219\n",
      "==============================================================================\n",
      "Omnibus:                      614.513   Durbin-Watson:                   0.907\n",
      "Prob(Omnibus):                  0.000   Jarque-Bera (JB):            49779.168\n",
      "Skew:                           5.891   Prob(JB):                         0.00\n",
      "Kurtosis:                      50.141   Cond. No.                         538.\n",
      "==============================================================================\n",
      "\n",
      "Notes:\n",
      "[1] Standard Errors assume that the covariance matrix of the errors is correctly specified.\n"
     ]
    }
   ],
   "source": [
    "X2 = X1.copy()\n",
    "y2 = log['lprice']\n",
    "\n",
    "beta2 = np.linalg.inv(X2.T @ X2)@X2.T@y2\n",
    "residual2 = y2 - np.array(X2) @ beta2\n",
    "\n",
    "\n",
    "# On test BetaX = 0 pour chaque variable, la p value la plus haure indique celle qui a le plus de probabilité de ne pas etre egale à 0\n",
    "model = sm.WLS(residual2**2, X2, weights= 1/np.sqrt(X2['nox']))\n",
    "results = model.fit()\n",
    "print(results.summary())"
   ]
  },
  {
   "cell_type": "code",
   "execution_count": null,
   "metadata": {},
   "outputs": [],
   "source": [
    "import seaborn as sns   \n",
    "plt.figure(figsize = (15,8))   ## Size of the figure\n",
    "sns.heatmap(X.corr().abs(), annot = True)"
   ]
  },
  {
   "cell_type": "markdown",
   "metadata": {},
   "source": [
    "### PART 3 - TIME SERIES DATA\n",
    "\n",
    "This part uses the threecenturies_v2.3 datasets. Import Real GDP at market prices, unemployment\n",
    "rate and consumer price inflation for the period 1900-2000 in Python from the A1 worksheet."
   ]
  },
  {
   "cell_type": "code",
   "execution_count": 26,
   "metadata": {},
   "outputs": [
    {
     "name": "stdout",
     "output_type": "stream",
     "text": [
      "Requirement already satisfied: openpyxl in c:\\users\\ulysse\\appdata\\local\\programs\\python\\python311\\lib\\site-packages (3.1.2)\n",
      "Requirement already satisfied: et-xmlfile in c:\\users\\ulysse\\appdata\\local\\programs\\python\\python311\\lib\\site-packages (from openpyxl) (1.1.0)\n",
      "Note: you may need to restart the kernel to use updated packages.\n"
     ]
    },
    {
     "name": "stderr",
     "output_type": "stream",
     "text": [
      "\n",
      "[notice] A new release of pip available: 22.3.1 -> 23.3.1\n",
      "[notice] To update, run: python.exe -m pip install --upgrade pip\n"
     ]
    }
   ],
   "source": [
    "%pip install openpyxl"
   ]
  },
  {
   "cell_type": "code",
   "execution_count": 27,
   "metadata": {},
   "outputs": [],
   "source": [
    "df = pd.read_excel('./textfiles/threecenturies_v2.3.xlsx', sheet_name='A1. Headline series')"
   ]
  },
  {
   "cell_type": "code",
   "execution_count": 28,
   "metadata": {},
   "outputs": [],
   "source": [
    "#Real GDP at market prices for the period 1900-2000\n",
    "real_GDP = df.loc[246:346, 'A1. Headline Annual Series'].reset_index(drop=True)\n",
    "real_GDP = real_GDP.rename('Real GDP at market prices')\n",
    "\n",
    "#Unemployment rate for the period 1900-2000\n",
    "unemp_rate = df.loc[246:346, 'Unnamed: 15'].reset_index(drop=True)\n",
    "unemp_rate = unemp_rate.rename('Unemployment rate')\n",
    "\n",
    "#Consumer price inflation for the period 1900-2000\n",
    "cons_price_infl = df.loc[246:346, 'Unnamed: 28'].reset_index(drop=True)\n",
    "cons_price_infl = cons_price_infl.rename('Consumer price inflation')"
   ]
  },
  {
   "cell_type": "code",
   "execution_count": 29,
   "metadata": {},
   "outputs": [
    {
     "data": {
      "text/plain": [
       "0      3.679865\n",
       "1      4.877351\n",
       "2      5.145694\n",
       "3      5.603507\n",
       "4      6.914821\n",
       "         ...   \n",
       "96     8.097052\n",
       "97     6.972014\n",
       "98     6.255467\n",
       "99     5.976813\n",
       "100    5.459049\n",
       "Name: Unemployment rate, Length: 101, dtype: object"
      ]
     },
     "execution_count": 29,
     "metadata": {},
     "output_type": "execute_result"
    }
   ],
   "source": [
    "unemp_rate"
   ]
  },
  {
   "cell_type": "markdown",
   "metadata": {},
   "source": [
    "### 27. Define strict and weak stationarity.\n",
    "\n",
    "A time series is said to be strictly stationary if the joint distribution of any set of observations is invariant under time shifts. In simpler terms, the entire probability distribution of the series remains constant over time. This implies that the mean, variance, and all higher-order moments of the distribution do not change with time. \n",
    "\n",
    "A time series is considered weakly stationary if the mean, variance, and autocorrelation structure remain constant over time. So, unlike strict stationarity, weak stationarity allows for shifts in the higher-order moments of the distribution, as long as the first and second moments (mean and variance) are constant."
   ]
  },
  {
   "cell_type": "markdown",
   "metadata": {},
   "source": [
    "### 28. Explain ergodicity and state the ergodic theorem. Illustrate with an example. \n",
    "\n",
    "In an ergodic system, the statistical properties derived from a single, sufficiently long time series realization are representative of the ensemble average over all possible realizations of the process. In simpler terms, the system explores all its possible states over time, and the long-term behavior of a single trajectory provides meaningful information about the entire system.\n",
    "\n",
    "The Birkhoff Ergodic Theorem states that, for an ergodic process, the time average of a function along a single trajectory converges to the ensemble average as the length of the observation time increases.\n",
    "Mathematically, if $X_t$ represents a time series and $f$ is a measurable function, the Birkhoff Ergodic Theorem can be expressed as follows:\n",
    "\n",
    "$$ lim_{T→∞}\\frac{1}{X_T} \\int_{0}^{T} f(X_t) \\, dt=E[f(X_t)] $$\n",
    "where $E$ denotes the ensemble average.\n",
    "\n",
    "Now let's see a simple example. Consider a simple random walk process where the value at each time step is determined by flipping a fair coin. Let $X_t$ be the position of the walker at time $t$, where the walker moves +1 with probability 0.5 and -1 with probability 0.5.\n",
    "\n",
    "Then $X_t$ could be the position of the walker, i.e., we take $f$ in the previous theorem as the identity function. The ergodic theorem implies that the time average of the position over a long time should converge to the expected position over all possible trajectories. Notice that, as our time serie is discrete, the integral becomes a sum:\n",
    "$$ lim_{T→∞}\\frac{1}{X_T} \\sum_{0}^{T} X_t = E(X_t) $$\n",
    "\n",
    "In this example, the long-term average position of the walker along a single trajectory should converge to zero, as the expected position over all possible trajectories is zero (since the coin is fair, and the expected value of each step is $0.5×1+0.5×(−1)=0$."
   ]
  },
  {
   "cell_type": "markdown",
   "metadata": {},
   "source": [
    "### 29. Why do we need both stationarity and ergodicity? \n"
   ]
  },
  {
   "cell_type": "markdown",
   "metadata": {},
   "source": [
    "### 30. Explain “spurious regression”. \n"
   ]
  },
  {
   "cell_type": "markdown",
   "metadata": {},
   "source": [
    "### 31. Define a moving average and explain the trade-off involved in the choice of the size of the window and of whether to center or not the moving average."
   ]
  },
  {
   "cell_type": "markdown",
   "metadata": {},
   "source": [
    "### 32. Make all time series stationary by computing the difference between the original variable and a moving average of order 5."
   ]
  },
  {
   "cell_type": "code",
   "execution_count": 32,
   "metadata": {},
   "outputs": [],
   "source": [
    "# Compute the moving average of order 5 for real_GDP\n",
    "moving_avg_real_gdp = real_GDP.rolling(window=5).mean()\n",
    "\n",
    "# Compute the difference between the original variable and the moving average for real_gdp\n",
    "real_gdp_stationary = real_GDP - moving_avg_real_gdp\n",
    "\n",
    "# idem for unemp_rate and cons_price_infl\n",
    "moving_avg_unemp_rate = unemp_rate.rolling(window=5).mean()\n",
    "unemp_rate_stationary = unemp_rate - moving_avg_unemp_rate\n",
    "moving_avg_cons_price_infl = cons_price_infl.rolling(window=5).mean()\n",
    "price_inf_stationary = cons_price_infl - moving_avg_cons_price_infl"
   ]
  },
  {
   "cell_type": "markdown",
   "metadata": {},
   "source": [
    "### 33. Compute the difference between the resulting time series of question 32 and a moving average of order 10. Give the exact formula for the weights after the two transformations."
   ]
  },
  {
   "cell_type": "code",
   "execution_count": null,
   "metadata": {},
   "outputs": [],
   "source": []
  },
  {
   "cell_type": "markdown",
   "metadata": {},
   "source": [
    "### 34. Using the original dataset, test the unit root hypothesis for all variables. "
   ]
  },
  {
   "cell_type": "code",
   "execution_count": 36,
   "metadata": {},
   "outputs": [
    {
     "name": "stdout",
     "output_type": "stream",
     "text": [
      "ADF Statistic Real GDP: 4.334307\n",
      "p-value: 1.000000\n",
      "Critical Values:\n",
      "\t1%: -3.499\n",
      "\t5%: -2.892\n",
      "\t10%: -2.583\n",
      "ADF Statistic Unemployment Rate: -2.363203\n",
      "p-value: 0.152393\n",
      "Critical Values:\n",
      "\t1%: -3.498\n",
      "\t5%: -2.891\n",
      "\t10%: -2.583\n",
      "ADF Statistic Consummer Price Inflation: -4.050359\n",
      "p-value: 0.001169\n",
      "Critical Values:\n",
      "\t1%: -3.498\n",
      "\t5%: -2.891\n",
      "\t10%: -2.583\n"
     ]
    }
   ],
   "source": [
    "from statsmodels.tsa.stattools import adfuller\n",
    "\n",
    "real_GDP_ADF = adfuller(real_GDP.dropna())\n",
    "unemp_rate_ADF = adfuller(unemp_rate.dropna())\n",
    "cons_price_infl_ADF = adfuller(cons_price_infl.dropna())\n",
    "\n",
    "print('ADF Statistic Real GDP: %f' % real_GDP_ADF[0])\n",
    "print('p-value: %f' % real_GDP_ADF[1])\n",
    "print('Critical Values:')\n",
    "for key, value in real_GDP_ADF[4].items():\n",
    "    print('\\t%s: %.3f' % (key, value))      # 1% < 5% < 10% => non stationnaire\n",
    "\n",
    "print('ADF Statistic Unemployment Rate: %f' % unemp_rate_ADF[0])  # 1% < 5% < 10% => non stationnaire \n",
    "print('p-value: %f' % unemp_rate_ADF[1])\n",
    "print('Critical Values:')\n",
    "for key, value in unemp_rate_ADF[4].items():\n",
    "    print('\\t%s: %.3f' % (key, value))\n",
    "\n",
    "print('ADF Statistic Consummer Price Inflation: %f' % cons_price_infl_ADF[0])  # 1% < 5% < 10% => non stationnaire\n",
    "print('p-value: %f' % cons_price_infl_ADF[1])\n",
    "print('Critical Values:')\n",
    "for key, value in cons_price_infl_ADF[4].items():\n",
    "    print('\\t%s: %.3f' % (key, value))"
   ]
  },
  {
   "cell_type": "markdown",
   "metadata": {},
   "source": [
    "In the case of $\\textit{Consumer Price Inflation}$, we observe that the $\\textit{ADF Statistic}$ (-4.050359) is lower than all critical values, and the $\\textit{p-value}$ (0.001169) is less than a common significance level like 0.05. Therefore, we can reject the null hypothesis. This suggests that the time series of $\\textit{Consumer Price Inflation}$ is stationary. On the contrary, for $\\textit{Real GDP}$ and the Unemployment Rate, the $\\textit{ADF Statistic}$ is higher than the critical values at 1%, 5%, and 10%. Moreover, the $\\textit{p-value}$ is greater than 0.05. Therefore, we cannot reject the null hypothesis of a unit root. In both cases, it may be necessary to explore other methods or transformations to make the time series stationary before modeling them."
   ]
  },
  {
   "cell_type": "markdown",
   "metadata": {},
   "source": [
    "### 35. Transform all variables so that they are stationary using either your answers to questions 32-33 or to question 34. \n"
   ]
  },
  {
   "cell_type": "code",
   "execution_count": 37,
   "metadata": {},
   "outputs": [
    {
     "name": "stdout",
     "output_type": "stream",
     "text": [
      "ADF Statistic Real GDP: -0.371381\n",
      "p-value: 0.914769\n",
      "Critical Values:\n",
      "\t1%: -3.507\n",
      "\t5%: -2.895\n",
      "\t10%: -2.585\n",
      "ADF Statistic Unemployment Rate: -4.911161\n",
      "p-value: 0.000033\n",
      "Critical Values:\n",
      "\t1%: -3.502\n",
      "\t5%: -2.893\n",
      "\t10%: -2.583\n",
      "ADF Statistic Consummer Price Inflation: -4.989333\n",
      "p-value: 0.000023\n",
      "Critical Values:\n",
      "\t1%: -3.504\n",
      "\t5%: -2.894\n",
      "\t10%: -2.584\n"
     ]
    }
   ],
   "source": [
    "real_GDP_stat_ADF = adfuller(real_gdp_stationary.dropna())\n",
    "unemp_rate_stat_ADF = adfuller(unemp_rate_stationary.dropna())\n",
    "cons_price_infl_stat_ADF = adfuller(price_inf_stationary.dropna())\n",
    "\n",
    "print('ADF Statistic Real GDP: %f' % real_GDP_stat_ADF[0])\n",
    "print('p-value: %f' % real_GDP_stat_ADF[1])\n",
    "print('Critical Values:')\n",
    "for key, value in real_GDP_stat_ADF[4].items():\n",
    "    print('\\t%s: %.3f' % (key, value))      # 1% < 5% < 10% => non stationnaire\n",
    "\n",
    "print('ADF Statistic Unemployment Rate: %f' % unemp_rate_stat_ADF[0])  # 1% < 5% < 10% => non stationnaire \n",
    "print('p-value: %f' % unemp_rate_stat_ADF[1])\n",
    "print('Critical Values:')\n",
    "for key, value in unemp_rate_stat_ADF[4].items():\n",
    "    print('\\t%s: %.3f' % (key, value))\n",
    "\n",
    "print('ADF Statistic Consummer Price Inflation: %f' % cons_price_infl_stat_ADF[0])  # 1% < 5% < 10% => non stationnaire\n",
    "print('p-value: %f' % cons_price_infl_stat_ADF[1])\n",
    "print('Critical Values:')\n",
    "for key, value in cons_price_infl_stat_ADF[4].items():\n",
    "    print('\\t%s: %.3f' % (key, value))"
   ]
  },
  {
   "cell_type": "markdown",
   "metadata": {},
   "source": [
    "!!!!!!!!!!!!!!!!!!!!!!!!!!!!!!!!!!!!!!!!!!!!!!!"
   ]
  },
  {
   "cell_type": "markdown",
   "metadata": {},
   "source": [
    "### 36. Explain the difference between ACF and PACF."
   ]
  },
  {
   "cell_type": "markdown",
   "metadata": {},
   "source": [
    "### 37. Plot and comment on the ACF and PACF of all variables. \n"
   ]
  },
  {
   "cell_type": "code",
   "execution_count": 39,
   "metadata": {},
   "outputs": [
    {
     "data": {
      "image/png": "[encoded data removed]",
      "text/plain": [
       "<Figure size 640x480 with 1 Axes>"
      ]
     },
     "metadata": {},
     "output_type": "display_data"
    },
    {
     "data": {
      "image/png": "[encoded data removed]",
      "text/plain": [
       "<Figure size 640x480 with 1 Axes>"
      ]
     },
     "metadata": {},
     "output_type": "display_data"
    },
    {
     "data": {
      "image/png": "[encoded data removed]",
      "text/plain": [
       "<Figure size 640x480 with 1 Axes>"
      ]
     },
     "metadata": {},
     "output_type": "display_data"
    },
    {
     "data": {
      "image/png": "[encoded data removed]",
      "text/plain": [
       "<Figure size 640x480 with 1 Axes>"
      ]
     },
     "metadata": {},
     "output_type": "display_data"
    },
    {
     "data": {
      "image/png": "[encoded data removed]",
      "text/plain": [
       "<Figure size 640x480 with 1 Axes>"
      ]
     },
     "metadata": {},
     "output_type": "display_data"
    },
    {
     "data": {
      "image/png": "[encoded data removed]",
      "text/plain": [
       "<Figure size 640x480 with 1 Axes>"
      ]
     },
     "metadata": {},
     "output_type": "display_data"
    }
   ],
   "source": [
    "from statsmodels.graphics.tsaplots import plot_acf, plot_pacf\n",
    "\n",
    "# Compute ACF and PACF for real_GDP\n",
    "plot_acf(real_GDP, lags=20)\n",
    "plt.title('ACF Plot - Real GDP')\n",
    "plt.show()\n",
    "plot_pacf(real_GDP, lags=20)\n",
    "plt.title('PACF Plot - Real GDP')\n",
    "plt.show()\n",
    "\n",
    "# Compute ACF and PACF for unemp_rate\n",
    "plot_acf(unemp_rate, lags=20)\n",
    "plt.title('ACF Plot - Unemployment Rate')\n",
    "plt.show()\n",
    "plot_pacf(unemp_rate, lags=20)\n",
    "plt.title('PACF Plot - Unemployment Rate')\n",
    "plt.show()\n",
    "\n",
    "# Compute ACF and PACF for cons_price_infl\n",
    "plot_acf(cons_price_infl, lags=20)\n",
    "plt.title('ACF Plot - Consumer Price Inflation')\n",
    "plt.show()\n",
    "plot_pacf(cons_price_infl, lags=20)\n",
    "plt.title('PACF Plot - Consumer Price Inflation')\n",
    "plt.show()"
   ]
  },
  {
   "cell_type": "markdown",
   "metadata": {},
   "source": [
    "### 38. Explain the principle of parsimony and its relationship with Ockham’s razor using the theory of information criterion. \n"
   ]
  },
  {
   "cell_type": "markdown",
   "metadata": {},
   "source": [
    "### 39. Explain the problem of auto-correlation of the errors. "
   ]
  },
  {
   "cell_type": "markdown",
   "metadata": {},
   "source": [
    "### 40. Using only stationary variables, run a regression of GDP on constant, unemployment and inflation and test the hypothesis of no-autocorrelation of errors. \n"
   ]
  },
  {
   "cell_type": "code",
   "execution_count": 43,
   "metadata": {},
   "outputs": [
    {
     "name": "stdout",
     "output_type": "stream",
     "text": [
      "                            OLS Regression Results                            \n",
      "==============================================================================\n",
      "Dep. Variable:                      y   R-squared:                       0.207\n",
      "Model:                            OLS   Adj. R-squared:                  0.190\n",
      "Method:                 Least Squares   F-statistic:                     12.29\n",
      "Date:                Sat, 09 Dec 2023   Prob (F-statistic):           1.81e-05\n",
      "Time:                        01:23:27   Log-Likelihood:                -1112.6\n",
      "No. Observations:                  97   AIC:                             2231.\n",
      "Df Residuals:                      94   BIC:                             2239.\n",
      "Df Model:                           2                                         \n",
      "Covariance Type:            nonrobust                                         \n",
      "==============================================================================\n",
      "                 coef    std err          t      P>|t|      [0.025      0.975]\n",
      "------------------------------------------------------------------------------\n",
      "const       2.455e+04   2392.277     10.264      0.000    1.98e+04    2.93e+04\n",
      "x1         -7508.0862   1572.834     -4.774      0.000   -1.06e+04   -4385.187\n",
      "x2          -991.1677    630.138     -1.573      0.119   -2242.322     259.987\n",
      "==============================================================================\n",
      "Omnibus:                        4.456   Durbin-Watson:                   0.196\n",
      "Prob(Omnibus):                  0.108   Jarque-Bera (JB):                4.465\n",
      "Skew:                           0.494   Prob(JB):                        0.107\n",
      "Kurtosis:                       2.642   Cond. No.                         4.72\n",
      "==============================================================================\n",
      "\n",
      "Notes:\n",
      "[1] Standard Errors assume that the covariance matrix of the errors is correctly specified.\n",
      "Durbin-Watson statistic: 0.19634617354108772\n",
      "p-value: 0.19634617354108772\n",
      "                            OLS Regression Results                            \n",
      "==============================================================================\n",
      "Dep. Variable:                      y   R-squared:                       0.207\n",
      "Model:                            OLS   Adj. R-squared:                  0.190\n",
      "Method:                 Least Squares   F-statistic:                     12.29\n",
      "Date:                Sat, 09 Dec 2023   Prob (F-statistic):           1.81e-05\n",
      "Time:                        01:23:27   Log-Likelihood:                -1112.6\n",
      "No. Observations:                  97   AIC:                             2231.\n",
      "Df Residuals:                      94   BIC:                             2239.\n",
      "Df Model:                           2                                         \n",
      "Covariance Type:            nonrobust                                         \n",
      "==============================================================================\n",
      "                 coef    std err          t      P>|t|      [0.025      0.975]\n",
      "------------------------------------------------------------------------------\n",
      "const       2.455e+04   2392.277     10.264      0.000    1.98e+04    2.93e+04\n",
      "x1         -7508.0862   1572.834     -4.774      0.000   -1.06e+04   -4385.187\n",
      "x2          -991.1677    630.138     -1.573      0.119   -2242.322     259.987\n",
      "==============================================================================\n",
      "Omnibus:                        4.456   Durbin-Watson:                   0.196\n",
      "Prob(Omnibus):                  0.108   Jarque-Bera (JB):                4.465\n",
      "Skew:                           0.494   Prob(JB):                        0.107\n",
      "Kurtosis:                       2.642   Cond. No.                         4.72\n",
      "==============================================================================\n",
      "\n",
      "Notes:\n",
      "[1] Standard Errors assume that the covariance matrix of the errors is correctly specified.\n",
      "Durbin-Watson statistic: 0.19634617354108772\n",
      "p-value: 0.19634617354108772\n"
     ]
    },
    {
     "name": "stderr",
     "output_type": "stream",
     "text": [
      "c:\\Users\\Ulysse\\AppData\\Local\\Programs\\Python\\Python311\\Lib\\site-packages\\numpy\\core\\_methods.py:41: RuntimeWarning: invalid value encountered in reduce\n",
      "  return umr_maximum(a, axis, None, out, keepdims, initial, where)\n",
      "c:\\Users\\Ulysse\\AppData\\Local\\Programs\\Python\\Python311\\Lib\\site-packages\\numpy\\core\\_methods.py:45: RuntimeWarning: invalid value encountered in reduce\n",
      "  return umr_minimum(a, axis, None, out, keepdims, initial, where)\n"
     ]
    }
   ],
   "source": [
    "import numpy as np\n",
    "import statsmodels.api as sm\n",
    "\n",
    "# Add a constant column to the independent variables\n",
    "X = sm.add_constant(pd.concat([unemp_rate_stationary, price_inf_stationary], axis=1))\n",
    "\n",
    "# Convert X and real_gdp_stationary to numpy arrays\n",
    "X = np.asarray(X, dtype=np.float64)\n",
    "real_gdp_stationary = np.asarray(real_gdp_stationary, dtype=np.float64)\n",
    "\n",
    "# Fit the regression model\n",
    "# Remove rows with inf or nans from X and real_gdp_stationary\n",
    "valid_rows = np.isfinite(X).all(axis=1) & np.isfinite(real_gdp_stationary)\n",
    "X = X[valid_rows]\n",
    "real_gdp_stationary = real_gdp_stationary[valid_rows]\n",
    "\n",
    "# Fit the regression model\n",
    "model = sm.OLS(real_gdp_stationary, X)\n",
    "results = model.fit()\n",
    "\n",
    "# Test the hypothesis of no-autocorrelation of errors\n",
    "dw_statistic = sm.stats.stattools.durbin_watson(results.resid)\n",
    "p_value = sm.stats.stattools.durbin_watson(results.resid)\n",
    "\n",
    "print(results.summary())\n",
    "print(\"Durbin-Watson statistic:\", dw_statistic)\n",
    "print(\"p-value:\", p_value)\n",
    "results = model.fit()\n",
    "\n",
    "# Test the hypothesis of no-autocorrelation of errors\n",
    "dw_statistic = sm.stats.stattools.durbin_watson(results.resid)\n",
    "p_value = sm.stats.stattools.durbin_watson(results.resid)\n",
    "\n",
    "print(results.summary())\n",
    "print(\"Durbin-Watson statistic:\", dw_statistic)\n",
    "print(\"p-value:\", p_value)\n"
   ]
  },
  {
   "cell_type": "markdown",
   "metadata": {},
   "source": [
    "### 41. Regardless of your answer to question 40, correct auto-correlation with GLS. Comment on the difference with question 40. \n"
   ]
  },
  {
   "cell_type": "markdown",
   "metadata": {},
   "source": [
    "### 42. For all variables, construct their lag 1 and lag 2 variables. "
   ]
  },
  {
   "cell_type": "markdown",
   "metadata": {},
   "source": [
    "### 43. Run a regression of GDP on constant, lag 1 unemployment, lag 2 unemployment, lag 1 inflation, lag 2 inflation. What is the number of observations and why? \n"
   ]
  },
  {
   "cell_type": "markdown",
   "metadata": {},
   "source": [
    "### 44. State and test the no-Granger causality hypothesis of inflation on GDP at the 10% level"
   ]
  },
  {
   "cell_type": "markdown",
   "metadata": {},
   "source": [
    "### 45. Divide the sample in two groups: 1900-1950 and 1951-2000. Test the stability of coefficients between the two periods. "
   ]
  },
  {
   "cell_type": "markdown",
   "metadata": {},
   "source": [
    "### 46. Test the structural breakpoint using a trim ratio of 25% at the 10% level "
   ]
  }
 ],
 "metadata": {
  "kernelspec": {
   "display_name": "Python 3",
   "language": "python",
   "name": "python3"
  },
  "language_info": {
   "codemirror_mode": {
    "name": "ipython",
    "version": 3
   },
   "file_extension": ".py",
   "mimetype": "text/x-python",
   "name": "python",
   "nbconvert_exporter": "python",
   "pygments_lexer": "ipython3",
   "version": "3.11.1"
  }
 },
 "nbformat": 4,
 "nbformat_minor": 2
}
